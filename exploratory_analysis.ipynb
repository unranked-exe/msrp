{
 "cells": [
  {
   "cell_type": "code",
   "execution_count": 5,
   "id": "ffb23453",
   "metadata": {},
   "outputs": [],
   "source": [
    "from pathlib import Path\n",
    "\n",
    "import pandas as pd\n"
   ]
  },
  {
   "cell_type": "code",
   "execution_count": 6,
   "id": "64c414cf",
   "metadata": {},
   "outputs": [],
   "source": [
    "data_path = Path(\"data_store\")\n",
    "datasheet_csv = data_path / \"datasheet.csv\""
   ]
  },
  {
   "cell_type": "code",
   "execution_count": 7,
   "id": "d912c197",
   "metadata": {},
   "outputs": [],
   "source": [
    "def get_datasheet(data_path: Path) -> pd.DataFrame:\n",
    "    try:\n",
    "        return pd.read_csv(data_path)\n",
    "    except pd.errors.EmptyDataError as e:\n",
    "        print(f\"Datasheet is empty: {e}\")\n",
    "        return pd.DataFrame()  # Return an empty DataFrame on error\n",
    "    except Exception as e:\n",
    "        print(f\"Error reading datasheet: {e}\")\n",
    "        return pd.DataFrame()  # Return an empty DataFrame on error"
   ]
  },
  {
   "cell_type": "code",
   "execution_count": 8,
   "id": "70ab668f",
   "metadata": {},
   "outputs": [
    {
     "name": "stdout",
     "output_type": "stream",
     "text": [
      "  STYLE Description Cat Description  USD $ - MSRP  GBP G - MSRP\n",
      "0          90'S BAG    CLUTCH/POUCH           990           830\n",
      "1          90'S BAG      SMALL BAGS           990           830\n",
      "2     90S BAG COVER    CLUTCH/POUCH           260           210\n",
      "3     90S BAG COVER    CLUTCH/POUCH           190           160\n",
      "4      ABBETA BRIEF           KNITS           220           190\n",
      "Cat Description\n",
      "SWEATERS               201\n",
      "PANTS                  120\n",
      "KNITS                  113\n",
      "TOPS                   100\n",
      "COATS                   79\n",
      "JACKETS                 78\n",
      "DRESSES                 75\n",
      "SKIRTS                  54\n",
      "SMALL LEATHER GOODS     46\n",
      "DENIM                   34\n",
      "SHOULDER/HOBO           33\n",
      "TOP HANDLE              28\n",
      "CLUTCH/POUCH            22\n",
      "ACCESSORIES             20\n",
      "FLAT SANDAL             20\n",
      "TOP HANDLE BAGS         18\n",
      "SANDALS                 15\n",
      "BOOTIE                  13\n",
      "CROSSBODY BAGS          12\n",
      "SLIPPER                 11\n",
      "LOAFERS                 11\n",
      "SNEAKER                 10\n",
      "HEELED SANDAL            9\n",
      "BELT                     9\n",
      "BOOTS                    8\n",
      "SHOPPER                  8\n",
      "BOOT                     7\n",
      "LEATHER                  7\n",
      "SMALL BAGS               7\n",
      "BELTS                    7\n",
      "EMBROIDERY               6\n",
      "PUMP                     6\n",
      "TOTES                    5\n",
      "LEATHER COATS            5\n",
      "BALLERINA                5\n",
      "SNEAKERS                 4\n",
      "CROSSBODY                4\n",
      "OUTERWEAR                4\n",
      "DUFFLES                  3\n",
      "DUFFLE                   3\n",
      "PUMPS                    3\n",
      "FLATS                    3\n",
      "BACKPACK                 2\n",
      "SHOULDER BAGS            2\n",
      "TOP                      2\n",
      "MOCASSIN                 2\n",
      "SHORTS                   2\n",
      "LACE UP                  2\n",
      "MARYJANE                 1\n",
      "LEATHER PANTS            1\n",
      "THONG                    1\n",
      "LEATHER JACKETS          1\n",
      "DERBY                    1\n",
      "BACKPACKS                1\n",
      "Name: count, dtype: int64\n",
      "STYLE Description    0\n",
      "Cat Description      0\n",
      "USD $ - MSRP         0\n",
      "GBP G - MSRP         0\n",
      "dtype: int64\n",
      "0\n"
     ]
    }
   ],
   "source": [
    "datasheet_df = get_datasheet(datasheet_csv)\n",
    "    # Process the DataFrame\n",
    "print(datasheet_df.head())\n",
    "\n",
    "print(datasheet_df[\"Cat Description\"].value_counts())\n",
    "\n",
    "print(datasheet_df.isna().sum())\n",
    "\n",
    "print(datasheet_df.duplicated().sum())"
   ]
  },
  {
   "cell_type": "code",
   "execution_count": 9,
   "id": "d91047f5",
   "metadata": {},
   "outputs": [
    {
     "name": "stdout",
     "output_type": "stream",
     "text": [
      "          STYLE Description  Cat Description  USD $ - MSRP  GBP G - MSRP\n",
      "1                  90'S BAG       SMALL BAGS           990           830\n",
      "107                     AVA            FLATS           790           690\n",
      "149             BARE SANDAL          SANDALS           850           740\n",
      "246                  BOURSE       SMALL BAGS          1590          1330\n",
      "339            CLASSIC BELT            BELTS           595           500\n",
      "454          ELASTIC BALLET            FLATS           790           690\n",
      "535               FISHERMAN          SANDALS           990           860\n",
      "580                   GINZA          SANDALS           925           810\n",
      "584                     GIO          DUFFLES          3900          3250\n",
      "624           HOOK-AND-LOOP          SANDALS           990           860\n",
      "641                    IOWA          DUFFLES          4150          3460\n",
      "700             KITTEN PUMP            PUMPS           990           860\n",
      "821   MARGAUX 17 INSIDE-OUT  TOP HANDLE BAGS          3950          3300\n",
      "829                 MARIE H         SNEAKERS           790           690\n",
      "912            NU MINI TWIN   CROSSBODY BAGS          1290          1080\n",
      "926             OLINA SKIRT       EMBROIDERY          1590          1330\n",
      "942             OWEN RUNNER         SNEAKERS           690           600\n",
      "955         PARK TOTE SMALL            TOTES          1290          1080\n",
      "957         PARK TOTE THREE            TOTES          1790          1500\n",
      "961           PATRICK SHIRT             TOPS          1290          1080\n",
      "1068     SLOUCHY BANANA TWO   CROSSBODY BAGS          1350          1130\n",
      "1083            SOFIA 10.00  TOP HANDLE BAGS          3950          3300\n",
      "1089             SOFIA 8.75  TOP HANDLE BAGS          3500          2920\n",
      "1100        SOFT MARGAUX 10  TOP HANDLE BAGS          3550          2960\n",
      "1129        SPORTY BACKPACK        BACKPACKS          1420          1190\n",
      "1242          ZIPPED BOOT I            BOOTS          1490          1300\n"
     ]
    }
   ],
   "source": [
    "print(datasheet_df[datasheet_df[[\"STYLE Description\",\"GBP G - MSRP\"]].duplicated()])"
   ]
  }
 ],
 "metadata": {
  "kernelspec": {
   "display_name": "msrp",
   "language": "python",
   "name": "python3"
  },
  "language_info": {
   "codemirror_mode": {
    "name": "ipython",
    "version": 3
   },
   "file_extension": ".py",
   "mimetype": "text/x-python",
   "name": "python",
   "nbconvert_exporter": "python",
   "pygments_lexer": "ipython3",
   "version": "3.13.5"
  }
 },
 "nbformat": 4,
 "nbformat_minor": 5
}
